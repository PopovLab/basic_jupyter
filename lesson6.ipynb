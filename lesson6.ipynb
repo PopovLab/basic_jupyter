{
 "cells": [
  {
   "attachments": {},
   "cell_type": "markdown",
   "metadata": {},
   "source": [
    "#### Чтение TimeSeries из Астры"
   ]
  },
  {
   "cell_type": "code",
   "execution_count": null,
   "metadata": {},
   "outputs": [],
   "source": [
    "import numpy as np\n",
    "import pandas as pd\n",
    "\n",
    "time_series = pd.read_csv(\"time_series.dat\", delim_whitespace=True)\n",
    "type(time_series)\n"
   ]
  },
  {
   "attachments": {},
   "cell_type": "markdown",
   "metadata": {},
   "source": [
    "что бы заработал %matplotlib widget\n",
    "нужно добавить модуль ipympl"
   ]
  },
  {
   "cell_type": "code",
   "execution_count": null,
   "metadata": {},
   "outputs": [],
   "source": [
    "%matplotlib widget\n",
    "\n",
    "from matplotlib import pyplot as plt\n",
    "\n",
    "# plot\n",
    "fig, ax = plt.subplots(figsize=(5, 2.7), layout='constrained')\n",
    "ax.plot(time_series['Time'], time_series['V'], linewidth=2.0,  label='V')\n",
    "ax.plot(time_series['Time'], time_series['Vexp'], linestyle='--', label='Vexp')\n",
    "#ax.set_title(r'$\\sigma_i=15$')\n",
    "ax.set_xlim(0.170, 0.2)\n",
    "ax.legend()\n",
    "ax.grid(True)\n",
    "\n",
    "ax.set_xlabel('time[sec]')\n",
    "ax.set_ylabel('V')\n"
   ]
  }
 ],
 "metadata": {
  "kernelspec": {
   "display_name": ".venv",
   "language": "python",
   "name": "python3"
  },
  "language_info": {
   "codemirror_mode": {
    "name": "ipython",
    "version": 3
   },
   "file_extension": ".py",
   "mimetype": "text/x-python",
   "name": "python",
   "nbconvert_exporter": "python",
   "pygments_lexer": "ipython3",
   "version": "3.11.2"
  },
  "orig_nbformat": 4
 },
 "nbformat": 4,
 "nbformat_minor": 2
}
