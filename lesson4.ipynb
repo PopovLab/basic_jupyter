{
 "cells": [
  {
   "attachments": {},
   "cell_type": "markdown",
   "metadata": {},
   "source": [
    "#### Использование pandas для чтения из файла"
   ]
  },
  {
   "cell_type": "code",
   "execution_count": null,
   "metadata": {},
   "outputs": [],
   "source": [
    "import numpy as np\n",
    "import pandas as pd\n",
    "  \n",
    "# чтение границ плазмы\n",
    "lcms = pd.read_csv(\"lcms.dat\", delim_whitespace=True)\n",
    "lcms = lcms.rename(columns={\"R(m)\": \"R\", \"Z(m)\": \"Z\"})  \n",
    "# display DataFrame\n",
    "print(lcms)"
   ]
  },
  {
   "cell_type": "code",
   "execution_count": null,
   "metadata": {},
   "outputs": [],
   "source": [
    "\n",
    "# importing matplotlib module\n",
    "from matplotlib import pyplot as plt\n",
    " \n",
    "# Function to plot\n",
    "plt.plot(lcms['R'], lcms['Z'])\n",
    "plt.axis('equal')\n",
    "# function to show the plot\n",
    "plt.show()"
   ]
  },
  {
   "cell_type": "code",
   "execution_count": null,
   "metadata": {},
   "outputs": [],
   "source": [
    "traj = pd.read_csv(\"0.1800000.dat\", delim_whitespace=True)\n",
    "  \n",
    "# display DataFrame\n",
    "print(traj.head())"
   ]
  },
  {
   "cell_type": "code",
   "execution_count": null,
   "metadata": {},
   "outputs": [],
   "source": [
    "n_traj = np.unique(traj['N_traj'])\n",
    "plt.plot(lcms['R(m)'], lcms['Z(m)'])\n",
    "plt.axis('equal')\n",
    "\n",
    "for nt in n_traj:\n",
    "    ray = traj[traj['N_traj'] == nt]\n",
    "    plt.plot(ray['R'], ray['Z'], alpha=0.5, linewidth=1)\n",
    "\n",
    "plt.show()"
   ]
  }
 ],
 "metadata": {
  "kernelspec": {
   "display_name": ".venv",
   "language": "python",
   "name": "python3"
  },
  "language_info": {
   "codemirror_mode": {
    "name": "ipython",
    "version": 3
   },
   "file_extension": ".py",
   "mimetype": "text/x-python",
   "name": "python",
   "nbconvert_exporter": "python",
   "pygments_lexer": "ipython3",
   "version": "3.11.2"
  },
  "orig_nbformat": 4
 },
 "nbformat": 4,
 "nbformat_minor": 2
}
